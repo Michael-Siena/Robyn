{
 "cells": [
  {
   "cell_type": "code",
   "execution_count": 4,
   "id": "2df4c81d-bbac-433e-a5da-4ecb1a11015a",
   "metadata": {},
   "outputs": [],
   "source": [
    "from robyn.robyn import Robyn"
   ]
  },
  {
   "cell_type": "code",
   "execution_count": null,
   "id": "47aa2441-6414-4313-aa7e-12270254f6c2",
   "metadata": {},
   "outputs": [],
   "source": []
  },
  {
   "cell_type": "code",
   "execution_count": 5,
   "id": "7bbf304f-31f1-41d0-b7b7-971959f3a3b1",
   "metadata": {},
   "outputs": [],
   "source": [
    "robyn = Robyn(\"~/temp\")"
   ]
  },
  {
   "cell_type": "code",
   "execution_count": 13,
   "id": "1dd68a77-1897-4fba-9caf-79fab9c9de1a",
   "metadata": {},
   "outputs": [
    {
     "name": "stdout",
     "output_type": "stream",
     "text": [
      "/Users/sandeepmane/Documents/GitHub/Robyn/python/src/tutorials/resources/dt_simulated_weekly.csv\n",
      "         DATE       revenue          tv_S     ooh_S       print_S  \\\n",
      "0  2015-11-23  2.754372e+06  22358.346667       0.0  12728.488889   \n",
      "1  2015-11-30  2.584277e+06  28613.453333       0.0      0.000000   \n",
      "2  2015-12-07  2.547387e+06      0.000000  132278.4    453.866667   \n",
      "3  2015-12-14  2.875220e+06  83450.306667       0.0  17680.000000   \n",
      "4  2015-12-21  2.215953e+06      0.000000  277336.0      0.000000   \n",
      "\n",
      "     facebook_I  search_clicks_P     search_S  competitor_sales_B  \\\n",
      "0  2.430128e+07         0.000000     0.000000             8125009   \n",
      "1  5.527033e+06      9837.238486  4133.333333             7901549   \n",
      "2  1.665159e+07     12044.119653  3786.666667             8300197   \n",
      "3  1.054977e+07     12268.070319  4253.333333             8122883   \n",
      "4  2.934090e+06      9467.248023  3613.333333             7105985   \n",
      "\n",
      "    facebook_S events    newsletter  \n",
      "0  7607.132915     na  19401.653846  \n",
      "1  1141.952450     na  14791.000000  \n",
      "2  4256.375378     na  14544.000000  \n",
      "3  2800.490677     na   2800.000000  \n",
      "4   689.582605     na  15478.000000  \n",
      "           ds           holiday country  year\n",
      "0  1995-01-01    New Year's Day      AD  1995\n",
      "1  1995-01-06          Epiphany      AD  1995\n",
      "2  1995-02-28          Carnival      AD  1995\n",
      "3  1995-03-14  Constitution Day      AD  1995\n",
      "4  1995-04-14       Good Friday      AD  1995\n"
     ]
    }
   ],
   "source": [
    "import os\n",
    "import pandas as pd\n",
    "\n",
    "from robyn.data.entities.mmmdata import MMMData\n",
    "\n",
    "# Get the current working directory\n",
    "current_dir = os.getcwd()\n",
    "\n",
    "# Set the correct file path\n",
    "file_path = os.path.join(current_dir, 'resources/dt_simulated_weekly.csv')\n",
    "print(file_path)\n",
    "\n",
    "# Read the CSV file\n",
    "dt_simulated_weekly = pd.read_csv(file_path)\n",
    "print(dt_simulated_weekly.head())\n",
    "\n",
    "dt_prophet_holidays = pd.read_csv('resources/dt_prophet_holidays.csv')\n",
    "print(dt_prophet_holidays.head())\n",
    "\n",
    "# Create a new MMMData object\n",
    "\n"
   ]
  }
 ],
 "metadata": {
  "kernelspec": {
   "display_name": "r-reticulate",
   "language": "python",
   "name": "python3"
  },
  "language_info": {
   "codemirror_mode": {
    "name": "ipython",
    "version": 3
   },
   "file_extension": ".py",
   "mimetype": "text/x-python",
   "name": "python",
   "nbconvert_exporter": "python",
   "pygments_lexer": "ipython3",
   "version": "3.12.2"
  }
 },
 "nbformat": 4,
 "nbformat_minor": 5
}
