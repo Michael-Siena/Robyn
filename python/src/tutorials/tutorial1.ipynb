{
 "cells": [
  {
   "cell_type": "code",
   "execution_count": 1,
   "id": "dba751a8-e31a-47e4-bf28-e8d253680823",
   "metadata": {},
   "outputs": [
    {
     "name": "stderr",
     "output_type": "stream",
     "text": [
      "/Users/sandeepmane/.virtualenvs/r-reticulate/lib/python3.12/site-packages/tqdm/auto.py:21: TqdmWarning: IProgress not found. Please update jupyter and ipywidgets. See https://ipywidgets.readthedocs.io/en/stable/user_install.html\n"
     ]
    }
   ],
   "source": [
    "from robyn import transformation\n",
    "from robyn import data, inputs, checks, model, outputs, json, plots, response, allocator ## Manual, Added manually\n",
    "import numpy as np\n",
    "import pandas as pd"
   ]
  },
  {
   "cell_type": "code",
   "execution_count": 2,
   "id": "da199882-ba60-4601-acbf-b5edb4ef7a11",
   "metadata": {},
   "outputs": [
    {
     "name": "stdout",
     "output_type": "stream",
     "text": [
      "         DATE       revenue          tv_S     ooh_S       print_S  \\\n",
      "0  2015-11-23  2.754372e+06  22358.346667       0.0  12728.488889   \n",
      "1  2015-11-30  2.584277e+06  28613.453333       0.0      0.000000   \n",
      "2  2015-12-07  2.547387e+06      0.000000  132278.4    453.866667   \n",
      "3  2015-12-14  2.875220e+06  83450.306667       0.0  17680.000000   \n",
      "4  2015-12-21  2.215953e+06      0.000000  277336.0      0.000000   \n",
      "\n",
      "     facebook_I  search_clicks_P     search_S  competitor_sales_B  \\\n",
      "0  2.430128e+07         0.000000     0.000000             8125009   \n",
      "1  5.527033e+06      9837.238486  4133.333333             7901549   \n",
      "2  1.665159e+07     12044.119653  3786.666667             8300197   \n",
      "3  1.054977e+07     12268.070319  4253.333333             8122883   \n",
      "4  2.934090e+06      9467.248023  3613.333333             7105985   \n",
      "\n",
      "    facebook_S events    newsletter  \n",
      "0  7607.132915     na  19401.653846  \n",
      "1  1141.952450     na  14791.000000  \n",
      "2  4256.375378     na  14544.000000  \n",
      "3  2800.490677     na   2800.000000  \n",
      "4   689.582605     na  15478.000000  \n",
      "           ds           holiday country  year\n",
      "0  1995-01-01    New Year's Day      AD  1995\n",
      "1  1995-01-06          Epiphany      AD  1995\n",
      "2  1995-02-28          Carnival      AD  1995\n",
      "3  1995-03-14  Constitution Day      AD  1995\n",
      "4  1995-04-14       Good Friday      AD  1995\n"
     ]
    }
   ],
   "source": [
    "## Check simulated dataset or load your own dataset\n",
    "dt_simulated_weekly = data.dt_simulated_weekly()\n",
    "print(dt_simulated_weekly.head())\n",
    "\n",
    "## Check holidays from Prophet\n",
    "# 59 countries included. If your country is not included, please manually add it.\n",
    "# Tipp: any events can be added into this table, school break, events etc.\n",
    "dt_prophet_holidays = data.dt_prophet_holidays()\n",
    "print(dt_prophet_holidays.head())\n",
    "\n",
    "\n",
    "# Directory where you want to export results to (will create new folders)\n",
    "robyn_directory = \"~/Desktop\""
   ]
  },
  {
   "cell_type": "code",
   "execution_count": 3,
   "id": "4a1c5b8b-3105-4bd2-bb98-a0c73bc1ed93",
   "metadata": {},
   "outputs": [
    {
     "name": "stdout",
     "output_type": "stream",
     "text": [
      "{'date_var': 'DATE', 'dayInterval': 7, 'intervalType': 'week', 'dt_input':           DATE       revenue          tv_S          ooh_S       print_S  \\\n",
      "0   2015-11-23  2.754372e+06  22358.346667       0.000000  12728.488889   \n",
      "1   2015-11-30  2.584277e+06  28613.453333       0.000000      0.000000   \n",
      "2   2015-12-07  2.547387e+06      0.000000  132278.400000    453.866667   \n",
      "3   2015-12-14  2.875220e+06  83450.306667       0.000000  17680.000000   \n",
      "4   2015-12-21  2.215953e+06      0.000000  277336.000000      0.000000   \n",
      "..         ...           ...           ...            ...           ...   \n",
      "203 2019-10-14  2.456240e+06      0.000000   32230.933333  20496.488889   \n",
      "204 2019-10-21  2.182825e+06  20655.680000       0.000000      0.000000   \n",
      "205 2019-10-28  2.377707e+06   2931.000000    7516.800000   2330.133333   \n",
      "206 2019-11-04  2.732825e+06   2993.733333       0.000000   3206.844444   \n",
      "207 2019-11-11  2.767788e+06      0.000000       0.000000      0.000000   \n",
      "\n",
      "       facebook_I  search_clicks_P      search_S  competitor_sales_B  \\\n",
      "0    2.430128e+07         0.000000      0.000000             8125009   \n",
      "1    5.527033e+06      9837.238486   4133.333333             7901549   \n",
      "2    1.665159e+07     12044.119653   3786.666667             8300197   \n",
      "3    1.054977e+07     12268.070319   4253.333333             8122883   \n",
      "4    2.934090e+06      9467.248023   3613.333333             7105985   \n",
      "..            ...              ...           ...                 ...   \n",
      "203  0.000000e+00     50946.774471  14946.666667             7612762   \n",
      "204  1.896065e+07     34560.015940  13826.666667             6701667   \n",
      "205  0.000000e+00     46129.234713  15293.333333             7688920   \n",
      "206  0.000000e+00     50569.330154  17880.000000             8815710   \n",
      "207  4.266037e+07         0.000000      0.000000             9067759   \n",
      "\n",
      "       facebook_S events    newsletter  \n",
      "0     7607.132915     na  19401.653846  \n",
      "1     1141.952450     na  14791.000000  \n",
      "2     4256.375378     na  14544.000000  \n",
      "3     2800.490677     na   2800.000000  \n",
      "4      689.582605     na  15478.000000  \n",
      "..            ...    ...           ...  \n",
      "203      0.000000     na  28157.000000  \n",
      "204   4454.152517     na  10644.000000  \n",
      "205      0.000000     na   9597.000000  \n",
      "206      0.000000     na  90189.000000  \n",
      "207  12206.358646     na  19401.653846  \n",
      "\n",
      "[208 rows x 12 columns]}\n",
      "Automatically set these variables as 'factor_vars': ['events']\n",
      "Input 'window_start' is adapted to the closest date contained in input data: 2016-01-04 00:00:00\n",
      "{'robyn_inputs': {'dt_input':           DATE       revenue          tv_S          ooh_S       print_S  \\\n",
      "0   2015-11-23  2.754372e+06  22358.346667       0.000000  12728.488889   \n",
      "1   2015-11-30  2.584277e+06  28613.453333       0.000000      0.000000   \n",
      "2   2015-12-07  2.547387e+06      0.000000  132278.400000    453.866667   \n",
      "3   2015-12-14  2.875220e+06  83450.306667       0.000000  17680.000000   \n",
      "4   2015-12-21  2.215953e+06      0.000000  277336.000000      0.000000   \n",
      "..         ...           ...           ...            ...           ...   \n",
      "203 2019-10-14  2.456240e+06      0.000000   32230.933333  20496.488889   \n",
      "204 2019-10-21  2.182825e+06  20655.680000       0.000000      0.000000   \n",
      "205 2019-10-28  2.377707e+06   2931.000000    7516.800000   2330.133333   \n",
      "206 2019-11-04  2.732825e+06   2993.733333       0.000000   3206.844444   \n",
      "207 2019-11-11  2.767788e+06      0.000000       0.000000      0.000000   \n",
      "\n",
      "       facebook_I  search_clicks_P      search_S  competitor_sales_B  \\\n",
      "0    2.430128e+07         0.000000      0.000000             8125009   \n",
      "1    5.527033e+06      9837.238486   4133.333333             7901549   \n",
      "2    1.665159e+07     12044.119653   3786.666667             8300197   \n",
      "3    1.054977e+07     12268.070319   4253.333333             8122883   \n",
      "4    2.934090e+06      9467.248023   3613.333333             7105985   \n",
      "..            ...              ...           ...                 ...   \n",
      "203  0.000000e+00     50946.774471  14946.666667             7612762   \n",
      "204  1.896065e+07     34560.015940  13826.666667             6701667   \n",
      "205  0.000000e+00     46129.234713  15293.333333             7688920   \n",
      "206  0.000000e+00     50569.330154  17880.000000             8815710   \n",
      "207  4.266037e+07         0.000000      0.000000             9067759   \n",
      "\n",
      "       facebook_S events    newsletter  \n",
      "0     7607.132915     na  19401.653846  \n",
      "1     1141.952450     na  14791.000000  \n",
      "2     4256.375378     na  14544.000000  \n",
      "3     2800.490677     na   2800.000000  \n",
      "4      689.582605     na  15478.000000  \n",
      "..            ...    ...           ...  \n",
      "203      0.000000     na  28157.000000  \n",
      "204   4454.152517     na  10644.000000  \n",
      "205      0.000000     na   9597.000000  \n",
      "206      0.000000     na  90189.000000  \n",
      "207  12206.358646     na  19401.653846  \n",
      "\n",
      "[208 rows x 12 columns], 'dt_holidays':               ds                   holiday country  year\n",
      "0     1995-01-01            New Year's Day      AD  1995\n",
      "1     1995-01-06                  Epiphany      AD  1995\n",
      "2     1995-02-28                  Carnival      AD  1995\n",
      "3     1995-03-14          Constitution Day      AD  1995\n",
      "4     1995-04-14               Good Friday      AD  1995\n",
      "...          ...                       ...     ...   ...\n",
      "87646 2044-08-09        Defense Forces Day      ZW  2044\n",
      "87647 2044-12-22                 Unity Day      ZW  2044\n",
      "87648 2044-12-25             Christmas Day      ZW  2044\n",
      "87649 2044-12-26                Boxing Day      ZW  2044\n",
      "87650 2044-12-27  Christmas Day (Observed)      ZW  2044\n",
      "\n",
      "[87651 rows x 4 columns], 'dt_mod': None, 'dt_modRollWind': None, 'xDecompAggPrev': None, 'date_var': 'DATE', 'dayInterval': 7, 'intervalType': 'week', 'dep_var': 'revenue', 'dep_var_type': 'revenue', 'prophet_vars': ['trend', 'season', 'holiday'], 'prophet_signs': ['default', 'default', 'default'], 'prophet_country': 'DE', 'context_vars': ['competitor_sales_B', 'events'], 'context_signs': ['default', 'default'], 'paid_media_vars': ['tv_S', 'ooh_S', 'print_S', 'facebook_I', 'search_clicks_P'], 'paid_media_signs': ['positive', 'positive', 'positive', 'positive', 'positive'], 'paid_media_spends': ['tv_S', 'ooh_S', 'print_S', 'facebook_S', 'search_S'], 'paid_media_total': 54789399.95839399, 'mediaVarCount': 5, 'exposure_vars': array(['facebook_I', 'search_clicks_P'], dtype='<U15'), 'organic_vars': ['newsletter'], 'organic_signs': ['positive'], 'all_media': ['tv_S', 'ooh_S', 'print_S', 'facebook_S', 'search_S', 'newsletter'], 'all_ind_vars': ['trend', 'season', 'holiday', 'competitor_sales_B', 'events', 'tv_S', 'ooh_S', 'print_S', 'facebook_S', 'search_S', 'newsletter'], 'factor_vars': ['events'], 'unused_vars': [], 'window_start': Timestamp('2016-01-04 00:00:00'), 'rollingWindowStartWhich': 7, 'window_end': numpy.datetime64('2018-12-31'), 'rollingWindowEndWhich': 163, 'rollingWindowLength': 157, 'totalObservations': 208, 'refreshAddedStart': Timestamp('2016-01-04 00:00:00'), 'adstock': 'geometric', 'hyperparameters': None, 'calibration_input': None, 'custom_params': {}}}\n"
     ]
    }
   ],
   "source": [
    "input_collect = inputs.robyn_inputs(\n",
    "    dt_input=dt_simulated_weekly,\n",
    "    dt_holidays=dt_prophet_holidays,\n",
    "    date_var=\"DATE\",\n",
    "    dep_var=\"revenue\",\n",
    "    dep_var_type=\"revenue\",\n",
    "    prophet_vars=[\"trend\", \"season\", \"holiday\"], ## Manually added list\n",
    "    prophet_country=\"DE\",\n",
    "    context_vars=[\"competitor_sales_B\", \"events\"],\n",
    "    paid_media_spends=[\"tv_S\", \"ooh_S\", \"print_S\", \"facebook_S\", \"search_S\"],\n",
    "    paid_media_vars=[\"tv_S\", \"ooh_S\", \"print_S\", \"facebook_I\", \"search_clicks_P\"],\n",
    "    organic_vars=[\"newsletter\"], ## Manually converted to list, since R behaves single variable as list as well.\n",
    "    window_start=\"2016-01-01\",\n",
    "    window_end=\"2018-12-31\",\n",
    "    adstock=\"geometric\"\n",
    ")\n",
    "\n",
    "# Print input collection\n",
    "print(input_collect)"
   ]
  },
  {
   "cell_type": "code",
   "execution_count": 5,
   "id": "69291431-cc63-4cd5-8962-ebf2cd55ab90",
   "metadata": {},
   "outputs": [],
   "source": [
    "hyper_names = inputs.hyper_names(adstock=input_collect['robyn_inputs']['adstock'], all_media=input_collect['robyn_inputs']['all_media'])"
   ]
  },
  {
   "cell_type": "code",
   "execution_count": 6,
   "id": "aa8a3c8c-f0c2-45c1-9e7f-4d431f0665ff",
   "metadata": {},
   "outputs": [
    {
     "data": {
      "text/plain": [
       "(<Figure Size: (640 x 480)>, <Figure Size: (640 x 480)>)"
      ]
     },
     "execution_count": 6,
     "metadata": {},
     "output_type": "execute_result"
    }
   ],
   "source": [
    "transformation.plot_adstock(plot = True)"
   ]
  },
  {
   "cell_type": "code",
   "execution_count": 7,
   "id": "bab392fc-9b94-40ab-a86d-cf9b261562f7",
   "metadata": {},
   "outputs": [
    {
     "ename": "TypeError",
     "evalue": "theme_gray.__init__() got an unexpected keyword argument 'background'",
     "output_type": "error",
     "traceback": [
      "\u001b[0;31m---------------------------------------------------------------------------\u001b[0m",
      "\u001b[0;31mTypeError\u001b[0m                                 Traceback (most recent call last)",
      "Cell \u001b[0;32mIn[7], line 1\u001b[0m\n\u001b[0;32m----> 1\u001b[0m \u001b[43mtransformation\u001b[49m\u001b[38;5;241;43m.\u001b[39;49m\u001b[43mplot_saturation\u001b[49m\u001b[43m(\u001b[49m\u001b[43mplot\u001b[49m\u001b[43m \u001b[49m\u001b[38;5;241;43m=\u001b[39;49m\u001b[43m \u001b[49m\u001b[38;5;28;43;01mTrue\u001b[39;49;00m\u001b[43m)\u001b[49m\n",
      "File \u001b[0;32m~/.virtualenvs/r-reticulate/lib/python3.12/site-packages/robyn/transformation.py:446\u001b[0m, in \u001b[0;36mplot_saturation\u001b[0;34m(plot)\u001b[0m\n\u001b[1;32m    432\u001b[0m hillAlphaCollect \u001b[38;5;241m=\u001b[39m pd\u001b[38;5;241m.\u001b[39mconcat(hillAlphaCollect)\n\u001b[1;32m    434\u001b[0m \u001b[38;5;250m\u001b[39m\u001b[38;5;124;03m\"\"\" Manually commented out to use ggplot as in R code\u001b[39;00m\n\u001b[1;32m    435\u001b[0m \u001b[38;5;124;03mplt.plot(hillAlphaCollect[\"x\"], hillAlphaCollect[\"y\"])\u001b[39;00m\n\u001b[1;32m    436\u001b[0m \u001b[38;5;124;03mplt.xlabel(\"X\")\u001b[39;00m\n\u001b[0;32m   (...)\u001b[0m\n\u001b[1;32m    439\u001b[0m \u001b[38;5;124;03mplt.show()\u001b[39;00m\n\u001b[1;32m    440\u001b[0m \u001b[38;5;124;03m\"\"\"\u001b[39;00m\n\u001b[1;32m    442\u001b[0m p1 \u001b[38;5;241m=\u001b[39m (\n\u001b[1;32m    443\u001b[0m     ggplot(hillAlphaCollect, aes(x \u001b[38;5;241m=\u001b[39m \u001b[38;5;124m\"\u001b[39m\u001b[38;5;124mx\u001b[39m\u001b[38;5;124m\"\u001b[39m, y \u001b[38;5;241m=\u001b[39m \u001b[38;5;124m\"\u001b[39m\u001b[38;5;124my\u001b[39m\u001b[38;5;124m\"\u001b[39m, color \u001b[38;5;241m=\u001b[39m \u001b[38;5;124m\"\u001b[39m\u001b[38;5;124malpha\u001b[39m\u001b[38;5;124m\"\u001b[39m))\n\u001b[1;32m    444\u001b[0m     \u001b[38;5;241m+\u001b[39m geom_line()\n\u001b[1;32m    445\u001b[0m     \u001b[38;5;241m+\u001b[39m labs(title \u001b[38;5;241m=\u001b[39m \u001b[38;5;124m\"\u001b[39m\u001b[38;5;124mCost response with hill function\u001b[39m\u001b[38;5;124m\"\u001b[39m, subtitle \u001b[38;5;241m=\u001b[39m \u001b[38;5;124m\"\u001b[39m\u001b[38;5;124mAlpha changes while gamma = 0.5\u001b[39m\u001b[38;5;124m\"\u001b[39m)\n\u001b[0;32m--> 446\u001b[0m     \u001b[38;5;241m+\u001b[39m \u001b[43mtheme_gray\u001b[49m\u001b[43m(\u001b[49m\u001b[43mbackground\u001b[49m\u001b[43m \u001b[49m\u001b[38;5;241;43m=\u001b[39;49m\u001b[43m \u001b[49m\u001b[38;5;124;43m\"\u001b[39;49m\u001b[38;5;124;43mwhite\u001b[39;49m\u001b[38;5;124;43m\"\u001b[39;49m\u001b[43m,\u001b[49m\u001b[43m \u001b[49m\u001b[43mpal\u001b[49m\u001b[43m \u001b[49m\u001b[38;5;241;43m=\u001b[39;49m\u001b[43m \u001b[49m\u001b[38;5;241;43m2\u001b[39;49m\u001b[43m)\u001b[49m\n\u001b[1;32m    447\u001b[0m )\n\u001b[1;32m    449\u001b[0m hillAlphaCollect \u001b[38;5;241m=\u001b[39m \u001b[38;5;28mlist\u001b[39m()\n\u001b[1;32m    450\u001b[0m \u001b[38;5;28;01mfor\u001b[39;00m i \u001b[38;5;129;01min\u001b[39;00m \u001b[38;5;28mrange\u001b[39m(\u001b[38;5;28mlen\u001b[39m(gamma_sample)):\n\u001b[1;32m    451\u001b[0m     \u001b[38;5;66;03m# Create a dataframe with the sample data\u001b[39;00m\n",
      "\u001b[0;31mTypeError\u001b[0m: theme_gray.__init__() got an unexpected keyword argument 'background'"
     ]
    }
   ],
   "source": [
    "transformation.plot_saturation(plot = True)"
   ]
  },
  {
   "cell_type": "code",
   "execution_count": 8,
   "id": "f14167ab-ab0a-4043-a3c3-d67915bda15c",
   "metadata": {},
   "outputs": [
    {
     "data": {
      "text/html": [
       "<div>\n",
       "<style scoped>\n",
       "    .dataframe tbody tr th:only-of-type {\n",
       "        vertical-align: middle;\n",
       "    }\n",
       "\n",
       "    .dataframe tbody tr th {\n",
       "        vertical-align: top;\n",
       "    }\n",
       "\n",
       "    .dataframe thead th {\n",
       "        text-align: right;\n",
       "    }\n",
       "</style>\n",
       "<table border=\"1\" class=\"dataframe\">\n",
       "  <thead>\n",
       "    <tr style=\"text-align: right;\">\n",
       "      <th></th>\n",
       "      <th>thetas</th>\n",
       "      <th>alphas</th>\n",
       "      <th>gammas</th>\n",
       "      <th>shapes</th>\n",
       "      <th>scales</th>\n",
       "    </tr>\n",
       "  </thead>\n",
       "  <tbody>\n",
       "    <tr>\n",
       "      <th>0</th>\n",
       "      <td>&gt;=0</td>\n",
       "      <td>&gt;0</td>\n",
       "      <td>&gt;0</td>\n",
       "      <td>&gt;=0</td>\n",
       "      <td>&gt;=0</td>\n",
       "    </tr>\n",
       "    <tr>\n",
       "      <th>1</th>\n",
       "      <td>&lt;1</td>\n",
       "      <td>&lt;10</td>\n",
       "      <td>&lt;=1</td>\n",
       "      <td>&lt;20</td>\n",
       "      <td>&lt;=1</td>\n",
       "    </tr>\n",
       "  </tbody>\n",
       "</table>\n",
       "</div>"
      ],
      "text/plain": [
       "  thetas alphas gammas shapes scales\n",
       "0    >=0     >0     >0    >=0    >=0\n",
       "1     <1    <10    <=1    <20    <=1"
      ]
     },
     "execution_count": 8,
     "metadata": {},
     "output_type": "execute_result"
    }
   ],
   "source": [
    "checks.hyper_limits()"
   ]
  },
  {
   "cell_type": "code",
   "execution_count": 9,
   "id": "bbcf4cd7-4c9a-4d81-af79-373d0a08b188",
   "metadata": {},
   "outputs": [],
   "source": [
    "facebook_S_alphas = np.array([0.5, 3])\n",
    "facebook_S_gammas = np.array([0.3, 1])\n",
    "facebook_S_thetas = np.array([0, 0.3])\n",
    "print_S_alphas = np.array([0.5, 3])\n",
    "print_S_gammas = np.array([0.3, 1])\n",
    "print_S_thetas = np.array([0.1, 0.4])\n",
    "tv_S_alphas = np.array([0.5, 3])\n",
    "tv_S_gammas = np.array([0.3, 1])\n",
    "tv_S_thetas = np.array([0.3, 0.8])\n",
    "search_S_alphas = np.array([0.5, 3])\n",
    "search_S_gammas = np.array([0.3, 1])\n",
    "search_S_thetas = np.array([0, 0.3])\n",
    "ooh_S_alphas = np.array([0.5, 3])\n",
    "ooh_S_gammas = np.array([0.3, 1])\n",
    "ooh_S_thetas = np.array([0.1, 0.4])\n",
    "newsletter_alphas = np.array([0.5, 3])\n",
    "newsletter_gammas = np.array([0.3, 1])\n",
    "newsletter_thetas = np.array([0.1, 0.4])\n",
    "train_size = np.array([0.5, 0.8])\n",
    "\n",
    "hyperparameters = pd.DataFrame({\n",
    "        'facebook_S_alphas': facebook_S_alphas,\n",
    "        'facebook_S_gammas': facebook_S_gammas,\n",
    "        'facebook_S_thetas': facebook_S_thetas,\n",
    "        'print_S_alphas': print_S_alphas,\n",
    "        'print_S_gammas': print_S_gammas,\n",
    "        'print_S_thetas': print_S_thetas,\n",
    "        'tv_S_alphas': tv_S_alphas,\n",
    "        'tv_S_gammas': tv_S_gammas,\n",
    "        'tv_S_thetas': tv_S_thetas,\n",
    "        'search_S_alphas': search_S_alphas,\n",
    "        'search_S_gammas': search_S_gammas,\n",
    "        'search_S_thetas': search_S_thetas,\n",
    "        'ooh_S_alphas': ooh_S_alphas,\n",
    "        'ooh_S_gammas': ooh_S_gammas,\n",
    "        'ooh_S_thetas': ooh_S_thetas,\n",
    "        'newsletter_alphas': newsletter_alphas,\n",
    "        'newsletter_gammas': newsletter_gammas,\n",
    "        'newsletter_thetas': newsletter_thetas,\n",
    "        'train_size': train_size\n",
    "    })"
   ]
  },
  {
   "cell_type": "code",
   "execution_count": 10,
   "id": "91ced42a-b957-4357-9262-80fe28bf4128",
   "metadata": {},
   "outputs": [],
   "source": [
    "calibration_input = pd.DataFrame({\n",
    "  # channel name must in paid_media_vars\n",
    "  \"channel\": [\"facebook_S\",  \"tv_S\", \"facebook_S+search_S\", \"newsletter\"],\n",
    "  # liftStartDate must be within input data range\n",
    "  \"liftStartDate\": pd.to_datetime([\"2018-05-01\", \"2018-04-03\", \"2018-07-01\", \"2017-12-01\"]),\n",
    "  # liftEndDate must be within input data range\n",
    "  \"liftEndDate\": pd.to_datetime([\"2018-06-10\", \"2018-06-03\", \"2018-07-20\", \"2017-12-31\"]),\n",
    "  # Provided value must be tested on same campaign level in model and same metric as dep_var_type\n",
    "  \"liftAbs\": [400000, 300000, 700000, 200],\n",
    "  # Spend within experiment: should match within a 10% error your spend on date range for each channel from dt_input\n",
    "  \"spend\": [421000, 7100, 350000, 0],\n",
    "  # Confidence: if frequentist experiment, you may use 1 - pvalue\n",
    "  \"confidence\": [0.85, 0.8, 0.99, 0.95],\n",
    "  # KPI measured: must match your dep_var\n",
    "  \"metric\": [\"revenue\", \"revenue\", \"revenue\", \"revenue\"],\n",
    "  # Either \"immediate\" or \"total\". For experimental inputs like Facebook Lift, \"immediate\" is recommended.\n",
    "  \"calibration_scope\": [\"immediate\", \"immediate\", \"immediate\", \"immediate\"]\n",
    "})\n",
    "\n",
    "test = calibration_input[\"channel\"]"
   ]
  },
  {
   "cell_type": "code",
   "execution_count": 11,
   "id": "da217cf5-e71f-48e1-bb11-d546377b54b3",
   "metadata": {},
   "outputs": [
    {
     "name": "stdout",
     "output_type": "stream",
     "text": [
      ">> Running Robyn feature engineering...\n"
     ]
    },
    {
     "name": "stderr",
     "output_type": "stream",
     "text": [
      "22:46:32 - cmdstanpy - INFO - Chain [1] start processing\n",
      "22:46:33 - cmdstanpy - INFO - Chain [1] done processing\n"
     ]
    }
   ],
   "source": [
    "input_collect = inputs.robyn_inputs(\n",
    "    InputCollect = input_collect['robyn_inputs'],\n",
    "    hyperparameters = hyperparameters,\n",
    "    calibration_input = calibration_input\n",
    ")\n"
   ]
  }
 ],
 "metadata": {
  "kernelspec": {
   "display_name": "Python 3.12.2 robynpy",
   "language": "python",
   "name": "robynpy"
  },
  "language_info": {
   "codemirror_mode": {
    "name": "ipython",
    "version": 3
   },
   "file_extension": ".py",
   "mimetype": "text/x-python",
   "name": "python",
   "nbconvert_exporter": "python",
   "pygments_lexer": "ipython3",
   "version": "3.12.2"
  }
 },
 "nbformat": 4,
 "nbformat_minor": 5
}
