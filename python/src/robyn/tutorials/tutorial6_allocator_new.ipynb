{
 "cells": [
  {
   "cell_type": "markdown",
   "metadata": {},
   "source": [
    "# Robyn Budget Allocator Demo\n",
    "\n",
    "This notebook demonstrates how to use the Python implementation of Robyn's budget allocator.\n",
    "It shows how to:\n",
    "1. Load and prepare data\n",
    "2. Configure the allocator\n",
    "3. Run optimization scenarios\n",
    "4. Analyze and visualize results\n",
    "\n",
    "## Step 1: Load Exported R Data"
   ]
  },
  {
   "cell_type": "code",
   "execution_count": null,
   "metadata": {},
   "outputs": [],
   "source": [
    "## Step 1: Setup and Import\n",
    "import sys\n",
    "import os\n",
    "import pandas as pd\n",
    "import numpy as np\n",
    "from typing import Dict, Any, Union, List\n",
    "import matplotlib.pyplot as plt\n",
    "\n",
    "# Add Robyn to path\n",
    "sys.path.append(\"/Users/yijuilee/robynpy_release_reviews/Robyn/python/src\")\n",
    "\n",
    "# Import necessary Robyn classes\n",
    "from robyn.data.entities.mmmdata import MMMData\n",
    "from robyn.modeling.entities.modeloutputs import ModelOutputs\n",
    "from robyn.data.entities.hyperparameters import Hyperparameters\n",
    "from robyn.allocator.entities.enums import OptimizationScenario, ConstrMode\n",
    "\n",
    "from utils.data_mapper import load_data_from_json, import_input_collect, import_output_collect, import_output_models"
   ]
  },
  {
   "cell_type": "code",
   "execution_count": null,
   "metadata": {},
   "outputs": [],
   "source": [
    "# Load data from JSON exported from R\n",
    "raw_input_collect = load_data_from_json(\n",
    "    \"/Users/yijuilee/robynpy_release_reviews/Robyn/python/src/tutorials/data/Allocator_InputCollect.json\"\n",
    ")\n",
    "raw_output_collect = load_data_from_json(\n",
    "    \"/Users/yijuilee/robynpy_release_reviews/Robyn/python/src/tutorials/data/Allocator_OutputCollect.json\"\n",
    ")\n",
    "raw_output_models = load_data_from_json(\n",
    "    \"/Users/yijuilee/robynpy_release_reviews/Robyn/python/src/tutorials/data/Allocator_OutputModels.json\"\n",
    ")\n",
    "\n",
    "# Convert R data to Python objects\n",
    "r_input_collect = import_input_collect(raw_input_collect)\n",
    "r_output_collect = import_output_collect(raw_output_collect)\n",
    "python_model_outputs = import_output_models(raw_output_models)\n",
    "\n",
    "# Extract individual components\n",
    "mmm_data = r_input_collect[\"mmm_data\"]\n",
    "featurized_mmm_data = r_input_collect[\"featurized_mmm_data\"]\n",
    "holidays_data = r_input_collect[\"holidays_data\"]\n",
    "model_outputs = python_model_outputs\n",
    "hyperparameters = r_input_collect[\"hyperparameters\"]"
   ]
  },
  {
   "cell_type": "markdown",
   "metadata": {},
   "source": [
    "## Step 2: Set up Budget Allocator\n",
    "\n",
    "Initialize the budget allocator with the selected model and data."
   ]
  },
  {
   "cell_type": "code",
   "execution_count": null,
   "metadata": {},
   "outputs": [],
   "source": [
    "for solid in r_output_collect[\"pareto_result\"].result_hyp_param[\"solID\"]:\n",
    "    print(f\"Solution ID: {solid}\")"
   ]
  },
  {
   "cell_type": "code",
   "execution_count": null,
   "metadata": {},
   "outputs": [],
   "source": [
    "from robyn.new_allocator.budget_allocator import BudgetAllocator\n",
    "\n",
    "# Select a model from the results\n",
    "select_model = \"1_65_6\"  # Example model ID\n",
    "# Initialize budget allocator\n",
    "allocator = BudgetAllocator(\n",
    "    input_collect=mmm_data, output_collect=model_outputs, select_model=select_model, hyperparameters=hyperparameters\n",
    ")\n",
    "\n",
    "print(hyperparameters)"
   ]
  },
  {
   "cell_type": "markdown",
   "metadata": {},
   "source": [
    "## Step 3: Configure Allocation Settings\n",
    "\n",
    "Set up constraints and parameters for optimization."
   ]
  },
  {
   "cell_type": "markdown",
   "metadata": {},
   "source": [
    "## Step 4: Run Different Optimization Scenarios\n",
    "\n",
    "### Scenario 1: Default Max Response"
   ]
  },
  {
   "cell_type": "code",
   "execution_count": null,
   "metadata": {},
   "outputs": [],
   "source": [
    "# Similar to Example 1 in demo.R\n",
    "result1 = allocator.run_allocation(\n",
    "    scenario=\"max_response\",\n",
    "    channel_constraints_low=0.7,\n",
    "    channel_constraints_up=[1.2, 1.5, 1.5, 1.5, 1.5],\n",
    "    date_range=\"all\",\n",
    ")\n",
    "\n",
    "# Print results\n",
    "print(result1)"
   ]
  },
  {
   "cell_type": "code",
   "execution_count": null,
   "metadata": {},
   "outputs": [],
   "source": [
    "print(result1)"
   ]
  },
  {
   "cell_type": "markdown",
   "metadata": {},
   "source": [
    "### Scenario 2: Max Response with Custom Settings"
   ]
  },
  {
   "cell_type": "markdown",
   "metadata": {},
   "source": [
    "### Scenario 3: Target Efficiency\n",
    "Optimize allocation based on target ROI/CPA."
   ]
  },
  {
   "cell_type": "markdown",
   "metadata": {},
   "source": [
    "### Scenario 4: Custom Target Efficiency"
   ]
  },
  {
   "cell_type": "markdown",
   "metadata": {},
   "source": [
    "## Step 5: Visualize Results (One Pager)\n",
    "\n",
    "Plot the optimization results and response curves."
   ]
  },
  {
   "cell_type": "code",
   "execution_count": null,
   "metadata": {},
   "outputs": [],
   "source": [
    "# Before creating plots, add these debug lines\n",
    "print(\"\\nDataFrame columns:\", result1.dt_optim_out.columns)\n",
    "print(\"\\nDataFrame head:\\n\", result1.dt_optim_out.head())"
   ]
  },
  {
   "cell_type": "code",
   "execution_count": null,
   "metadata": {},
   "outputs": [],
   "source": [
    "date_range = (mmm_data.data[mmm_data.mmmdata_spec.date_var].min(), mmm_data.data[mmm_data.mmmdata_spec.date_var].max())\n",
    "print(date_range)"
   ]
  },
  {
   "cell_type": "code",
   "execution_count": null,
   "metadata": {},
   "outputs": [],
   "source": [
    "from robyn.new_allocator.allocation_plotter import AllocationPlotter\n",
    "from robyn.new_allocator.optimization.objective_function import ObjectiveFunction\n",
    "from robyn.data.entities.mmmdata import MMMData, MMMDataSpec\n",
    "\n",
    "# Create plots\n",
    "plotter = AllocationPlotter()\n",
    "\n",
    "# Get date range\n",
    "date_range = (mmm_data.data[mmm_data.mmmdata_spec.date_var].min(), mmm_data.data[mmm_data.mmmdata_spec.date_var].max())\n",
    "\n",
    "# Prepare response curves data\n",
    "plot_data = plotter._prepare_response_curves_data(\n",
    "    channels=allocator.paid_media_vars,\n",
    "    allocation_df=result1.dt_optim_out,\n",
    "    objective_function=allocator.objective_function,\n",
    ")\n",
    "\n",
    "# Create onepager plot\n",
    "fig = plotter.create_onepager(\n",
    "    dt_optim_out=result1.dt_optim_out,\n",
    "    plot_data=plot_data,\n",
    "    scenario=result1.scenario,\n",
    "    date_range=date_range,\n",
    "    interval_type=\"Week\",\n",
    ")\n",
    "\n",
    "plt.show()"
   ]
  },
  {
   "cell_type": "code",
   "execution_count": null,
   "metadata": {},
   "outputs": [],
   "source": []
  }
 ],
 "metadata": {
  "kernelspec": {
   "display_name": ".venv",
   "language": "python",
   "name": "python3"
  },
  "language_info": {
   "codemirror_mode": {
    "name": "ipython",
    "version": 3
   },
   "file_extension": ".py",
   "mimetype": "text/x-python",
   "name": "python",
   "nbconvert_exporter": "python",
   "pygments_lexer": "ipython3",
   "version": "3.9.6"
  }
 },
 "nbformat": 4,
 "nbformat_minor": 2
}
