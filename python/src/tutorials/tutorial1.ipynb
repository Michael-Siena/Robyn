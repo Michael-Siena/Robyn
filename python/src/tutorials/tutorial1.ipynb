{
 "cells": [
  {
   "cell_type": "markdown",
   "id": "53f2f84a",
   "metadata": {},
   "source": [
    "# Robyn: Marketing Mix Modeling Application\n",
    "\n",
    "This notebook demonstrates the usage of Robyn, a Marketing Mix Modeling (MMM) application. We'll go through the main steps of initializing the model, running it, and performing budget allocation.\n"
   ]
  },
  {
   "cell_type": "markdown",
   "id": "6fd474b7",
   "metadata": {},
   "source": [
    "\n",
    "## 1. Import Required Libraries and Create Synthetic Data\n",
    "\n",
    "First, let's import the necessary libraries and create some synthetic data for our demonstration."
   ]
  },
  {
   "cell_type": "code",
   "execution_count": null,
   "id": "eb8146e8",
   "metadata": {},
   "outputs": [],
   "source": [
    "\n",
    "import pandas as pd\n",
    "import numpy as np\n",
    "from datetime import datetime, timedelta\n",
    "from robyn.robyn import Robyn\n",
    "from robyn.data.entities.mmmdata import MMMData\n",
    "from robyn.data.entities.holidays_data import HolidaysData\n",
    "from robyn.data.entities.hyperparameters import Hyperparameters, ChannelHyperparameters\n",
    "from robyn.data.entities.calibration_input import CalibrationInput, ChannelCalibrationData\n",
    "from robyn.data.entities.enums import AdstockType, DependentVarType, CalibrationScope\n",
    "from robyn.modeling.entities.modelrun_trials_config import TrialsConfig\n",
    "from robyn.analysis.budget_allocator import BudgetAllocatorConfig\n"
   ]
  },
  {
   "cell_type": "markdown",
   "id": "442024b2",
   "metadata": {},
   "source": [
    "## 2.1 Create sythetic Data"
   ]
  },
  {
   "cell_type": "code",
   "execution_count": null,
   "id": "408ad24b",
   "metadata": {},
   "outputs": [],
   "source": [
    "# Create synthetic data\n",
    "def create_synthetic_data(start_date, end_date):\n",
    "    date_range = pd.date_range(start=start_date, end=end_date, freq='D')\n",
    "    n = len(date_range)\n",
    "    \n",
    "    data = pd.DataFrame({\n",
    "        'date': date_range,\n",
    "        'revenue': np.random.normal(1000, 100, n),\n",
    "        'tv_spend': np.random.normal(500, 50, n),\n",
    "        'radio_spend': np.random.normal(300, 30, n),\n",
    "        'ooh_spend': np.random.normal(200, 20, n),\n",
    "        'print_spend': np.random.normal(100, 10, n),\n",
    "        'competitor_sales': np.random.normal(800, 80, n),\n",
    "        'temperature': np.random.normal(20, 5, n)\n",
    "    })\n",
    "    \n",
    "    return data\n",
    "\n",
    "# Generate synthetic data\n",
    "start_date = datetime(2022, 1, 1)\n",
    "end_date = datetime(2022, 12, 31)\n",
    "synthetic_data = create_synthetic_data(start_date, end_date)\n",
    "\n",
    "# Display the first few rows of the synthetic data\n",
    "print(synthetic_data.head())"
   ]
  },
  {
   "cell_type": "markdown",
   "id": "0a1cce14",
   "metadata": {},
   "source": [
    "## 2.2. Initialize Robyn\n",
    "\n",
    "Now, let's initialize Robyn with our synthetic data and configuration."
   ]
  },
  {
   "cell_type": "code",
   "execution_count": null,
   "id": "3a272787",
   "metadata": {},
   "outputs": [],
   "source": [
    "# Initialize Robyn\n",
    "robyn = Robyn(working_dir=\"~/temp/robyn\")\n",
    "\n",
    "# Create MMMData\n",
    "mmm_data_spec = MMMData.MMMDataSpec(\n",
    "    dep_var=\"revenue\",\n",
    "    dep_var_type=DependentVarType.REVENUE,\n",
    "    date_var=\"date\",\n",
    "    paid_media_spends=[\"tv_spend\", \"radio_spend\", \"ooh_spend\", \"print_spend\"],\n",
    "    paid_media_vars=[\"tv_spend\", \"radio_spend\", \"ooh_spend\", \"print_spend\"],\n",
    "    context_vars=[\"competitor_sales\", \"temperature\"],\n",
    ")\n",
    "\n",
    "mmm_data = MMMData(synthetic_data, mmm_data_spec)\n",
    "\n",
    "# Create HolidaysData (using dummy data for demonstration)\n",
    "holidays_data = HolidaysData(\n",
    "    dt_holidays=pd.DataFrame(),\n",
    "    prophet_vars=[],\n",
    "    prophet_signs=[],\n",
    "    prophet_country=\"US\",\n",
    "    day_interval=1\n",
    ")\n",
    "\n",
    "# Create Hyperparameters\n",
    "hyperparameters = Hyperparameters({\n",
    "    \"tv_spend\": ChannelHyperparameters(\n",
    "        thetas=[0.1, 0.9],\n",
    "        alphas=[0.5, 3.0],\n",
    "        gammas=[0.3, 1.0],\n",
    "        shapes=[0.0001, 2.0],\n",
    "        scales=[0.0001, 2.0],\n",
    "    ),\n",
    "    \"radio_spend\": ChannelHyperparameters(\n",
    "        thetas=[0.1, 0.9],\n",
    "        alphas=[0.5, 3.0],\n",
    "        gammas=[0.3, 1.0],\n",
    "        shapes=[0.0001, 2.0],\n",
    "        scales=[0.0001, 2.0],\n",
    "    ),\n",
    "    \"ooh_spend\": ChannelHyperparameters(\n",
    "        thetas=[0.1, 0.9],\n",
    "        alphas=[0.5, 3.0],\n",
    "        gammas=[0.3, 1.0],\n",
    "        shapes=[0.0001, 2.0],\n",
    "        scales=[0.0001, 2.0],\n",
    "    ),\n",
    "    \"print_spend\": ChannelHyperparameters(\n",
    "        thetas=[0.1, 0.9],\n",
    "        alphas=[0.5, 3.0],\n",
    "        gammas=[0.3, 1.0],\n",
    "        shapes=[0.0001, 2.0],\n",
    "        scales=[0.0001, 2.0],\n",
    "    ),\n",
    "})\n",
    "\n",
    "# Create CalibrationInput (using dummy data for demonstration)\n",
    "calibration_input = CalibrationInput({\n",
    "    \"tv_spend\": ChannelCalibrationData(\n",
    "        lift_start_date=pd.Timestamp(\"2022-03-01\"),\n",
    "        lift_end_date=pd.Timestamp(\"2022-03-15\"),\n",
    "        lift_abs=10000,\n",
    "        spend=50000,\n",
    "        confidence=0.9,\n",
    "        metric=\"revenue\",\n",
    "        calibration_scope=CalibrationScope.IMMEDIATE\n",
    "    )\n",
    "})\n",
    "\n",
    "# Initialize Robyn\n",
    "robyn.initialize(\n",
    "    mmm_data=mmm_data,\n",
    "    holidays_data=holidays_data,\n",
    "    hyperparameters=hyperparameters,\n",
    "    calibration_input=calibration_input\n",
    ")\n",
    "\n",
    "print(\"Robyn initialized successfully!\")"
   ]
  },
  {
   "cell_type": "markdown",
   "id": "d836832f",
   "metadata": {},
   "source": [
    "## 3. Run Robyn Model\n",
    "\n",
    "After initialization, we can run the Robyn model."
   ]
  },
  {
   "cell_type": "code",
   "execution_count": null,
   "id": "08cc2ddb",
   "metadata": {},
   "outputs": [],
   "source": [
    "# Configure trials\n",
    "trials_config = TrialsConfig(\n",
    "    num_trials=5,\n",
    "    num_iterations_per_trial=1000,\n",
    "    timeseries_validation=True,\n",
    "    add_penalty_factor=True\n",
    ")\n",
    "\n",
    "# Run the model\n",
    "model_output = robyn.model_run(\n",
    "    num_of_cores=4,\n",
    "    trials_config=trials_config\n",
    ")\n",
    "\n",
    "print(\"Model run completed successfully!\")\n",
    "print(f\"Number of trials: {len(model_output.trials)}\")"
   ]
  },
  {
   "cell_type": "markdown",
   "id": "8ede6c0d",
   "metadata": {},
   "source": [
    "## 4. Budget Allocation\n",
    "\n",
    "Finally, let's perform budget allocation using the trained model."
   ]
  },
  {
   "cell_type": "code",
   "execution_count": null,
   "id": "3db5eae9",
   "metadata": {},
   "outputs": [],
   "source": [
    "# Configure budget allocator\n",
    "budget_allocator_config = BudgetAllocatorConfig(\n",
    "    scenario=\"max_response\",\n",
    "    total_budget=1000000,\n",
    "    target_value=0,\n",
    "    date_range=\"2023-01-01,2023-12-31\",\n",
    "    channel_constr_low=0.7,\n",
    "    channel_constr_up=1.3,\n",
    "    channel_constr_multiplier=3,\n",
    "    optim_algo=\"SLSQP_AUGLAG\",\n",
    "    maxeval=100000,\n",
    "    constr_mode=\"eq\"\n",
    ")\n",
    "\n",
    "# Run budget allocation\n",
    "budget_allocation_result = robyn.budget_allocator(\n",
    "    select_model=\"1\",  # Assuming we're using the first model\n",
    "    budger_allocator_config=budget_allocator_config\n",
    ")\n",
    "\n",
    "print(\"Budget allocation completed successfully!\")\n",
    "print(budget_allocation_result)\n"
   ]
  },
  {
   "cell_type": "markdown",
   "id": "e87e98ff",
   "metadata": {},
   "source": [
    "This notebook demonstrates the basic workflow of using Robyn for Marketing Mix Modeling. In a real-world scenario, you would need to replace the synthetic data with your actual marketing data and adjust the parameters accordingly.\n",
    "\n",
    "Remember to explore the full capabilities of Robyn, including model evaluation, visualization, and interpretation of results, which are beyond the scope of this basic demonstration."
   ]
  }
 ],
 "metadata": {
  "kernelspec": {
   "display_name": "Python 3 (ipykernel)",
   "language": "python",
   "name": "python3"
  },
  "language_info": {
   "codemirror_mode": {
    "name": "ipython",
    "version": 3
   },
   "file_extension": ".py",
   "mimetype": "text/x-python",
   "name": "python",
   "nbconvert_exporter": "python",
   "pygments_lexer": "ipython3",
   "version": "3.12.2"
  }
 },
 "nbformat": 4,
 "nbformat_minor": 5
}
