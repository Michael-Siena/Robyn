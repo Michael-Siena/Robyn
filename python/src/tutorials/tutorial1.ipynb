{
 "cells": [
  {
   "cell_type": "markdown",
   "id": "53f2f84a",
   "metadata": {},
   "source": [
    "# Robyn: Marketing Mix Modeling Application\n",
    "\n",
    "This notebook demonstrates the usage of Robyn, a Marketing Mix Modeling (MMM) application. We'll go through the main steps of initializing the model, running it, and performing budget allocation.\n"
   ]
  },
  {
   "cell_type": "markdown",
   "id": "6fd474b7",
   "metadata": {},
   "source": [
    "\n",
    "## 1. Import Required Libraries and Create Synthetic Data\n",
    "\n",
    "First, let's import the necessary libraries and create some synthetic data for our demonstration."
   ]
  },
  {
   "cell_type": "code",
   "execution_count": 2,
   "id": "eb8146e8",
   "metadata": {},
   "outputs": [
    {
     "name": "stderr",
     "output_type": "stream",
     "text": [
      "/Users/yijuilee/robynpy_release_reviews/robynvenv/lib/python3.9/site-packages/tqdm/auto.py:21: TqdmWarning: IProgress not found. Please update jupyter and ipywidgets. See https://ipywidgets.readthedocs.io/en/stable/user_install.html\n",
      "  from .autonotebook import tqdm as notebook_tqdm\n"
     ]
    }
   ],
   "source": [
    "import pandas as pd\n",
    "import numpy as np\n",
    "import sys\n",
    "\n",
    "sys.path.append(\"/Users/yijuilee/robynpy_release_reviews/Robyn/python/src\")\n",
    "\n",
    "from robyn.data.entities.mmmdata import MMMData\n",
    "from robyn.data.entities.holidays_data import HolidaysData\n",
    "from robyn.data.entities.hyperparameters import Hyperparameters, ChannelHyperparameters\n",
    "from robyn.data.entities.calibration_input import CalibrationInput, ChannelCalibrationData\n",
    "from robyn.data.entities.enums import AdstockType, DependentVarType, CalibrationScope\n",
    "from robyn.robyn import Robyn"
   ]
  },
  {
   "cell_type": "markdown",
   "id": "442024b2",
   "metadata": {},
   "source": [
    "## 2.1 Load simulated data.\n",
    "\n",
    "You need to replace this with real data."
   ]
  },
  {
   "cell_type": "code",
   "execution_count": 3,
   "id": "6f14728b",
   "metadata": {},
   "outputs": [
    {
     "name": "stdout",
     "output_type": "stream",
     "text": [
      "Simulated Data...\n"
     ]
    },
    {
     "data": {
      "text/html": [
       "<div>\n",
       "<style scoped>\n",
       "    .dataframe tbody tr th:only-of-type {\n",
       "        vertical-align: middle;\n",
       "    }\n",
       "\n",
       "    .dataframe tbody tr th {\n",
       "        vertical-align: top;\n",
       "    }\n",
       "\n",
       "    .dataframe thead th {\n",
       "        text-align: right;\n",
       "    }\n",
       "</style>\n",
       "<table border=\"1\" class=\"dataframe\">\n",
       "  <thead>\n",
       "    <tr style=\"text-align: right;\">\n",
       "      <th></th>\n",
       "      <th>DATE</th>\n",
       "      <th>revenue</th>\n",
       "      <th>tv_S</th>\n",
       "      <th>ooh_S</th>\n",
       "      <th>print_S</th>\n",
       "      <th>facebook_I</th>\n",
       "      <th>search_clicks_P</th>\n",
       "      <th>search_S</th>\n",
       "      <th>competitor_sales_B</th>\n",
       "      <th>facebook_S</th>\n",
       "      <th>events</th>\n",
       "      <th>newsletter</th>\n",
       "    </tr>\n",
       "  </thead>\n",
       "  <tbody>\n",
       "    <tr>\n",
       "      <th>0</th>\n",
       "      <td>2015-11-23</td>\n",
       "      <td>2.754372e+06</td>\n",
       "      <td>22358.346667</td>\n",
       "      <td>0.0</td>\n",
       "      <td>12728.488889</td>\n",
       "      <td>2.430128e+07</td>\n",
       "      <td>0.000000</td>\n",
       "      <td>0.000000</td>\n",
       "      <td>8125009</td>\n",
       "      <td>7607.132915</td>\n",
       "      <td>na</td>\n",
       "      <td>19401.653846</td>\n",
       "    </tr>\n",
       "    <tr>\n",
       "      <th>1</th>\n",
       "      <td>2015-11-30</td>\n",
       "      <td>2.584277e+06</td>\n",
       "      <td>28613.453333</td>\n",
       "      <td>0.0</td>\n",
       "      <td>0.000000</td>\n",
       "      <td>5.527033e+06</td>\n",
       "      <td>9837.238486</td>\n",
       "      <td>4133.333333</td>\n",
       "      <td>7901549</td>\n",
       "      <td>1141.952450</td>\n",
       "      <td>na</td>\n",
       "      <td>14791.000000</td>\n",
       "    </tr>\n",
       "    <tr>\n",
       "      <th>2</th>\n",
       "      <td>2015-12-07</td>\n",
       "      <td>2.547387e+06</td>\n",
       "      <td>0.000000</td>\n",
       "      <td>132278.4</td>\n",
       "      <td>453.866667</td>\n",
       "      <td>1.665159e+07</td>\n",
       "      <td>12044.119653</td>\n",
       "      <td>3786.666667</td>\n",
       "      <td>8300197</td>\n",
       "      <td>4256.375378</td>\n",
       "      <td>na</td>\n",
       "      <td>14544.000000</td>\n",
       "    </tr>\n",
       "    <tr>\n",
       "      <th>3</th>\n",
       "      <td>2015-12-14</td>\n",
       "      <td>2.875220e+06</td>\n",
       "      <td>83450.306667</td>\n",
       "      <td>0.0</td>\n",
       "      <td>17680.000000</td>\n",
       "      <td>1.054977e+07</td>\n",
       "      <td>12268.070319</td>\n",
       "      <td>4253.333333</td>\n",
       "      <td>8122883</td>\n",
       "      <td>2800.490677</td>\n",
       "      <td>na</td>\n",
       "      <td>2800.000000</td>\n",
       "    </tr>\n",
       "    <tr>\n",
       "      <th>4</th>\n",
       "      <td>2015-12-21</td>\n",
       "      <td>2.215953e+06</td>\n",
       "      <td>0.000000</td>\n",
       "      <td>277336.0</td>\n",
       "      <td>0.000000</td>\n",
       "      <td>2.934090e+06</td>\n",
       "      <td>9467.248023</td>\n",
       "      <td>3613.333333</td>\n",
       "      <td>7105985</td>\n",
       "      <td>689.582605</td>\n",
       "      <td>na</td>\n",
       "      <td>15478.000000</td>\n",
       "    </tr>\n",
       "  </tbody>\n",
       "</table>\n",
       "</div>"
      ],
      "text/plain": [
       "         DATE       revenue          tv_S     ooh_S       print_S  \\\n",
       "0  2015-11-23  2.754372e+06  22358.346667       0.0  12728.488889   \n",
       "1  2015-11-30  2.584277e+06  28613.453333       0.0      0.000000   \n",
       "2  2015-12-07  2.547387e+06      0.000000  132278.4    453.866667   \n",
       "3  2015-12-14  2.875220e+06  83450.306667       0.0  17680.000000   \n",
       "4  2015-12-21  2.215953e+06      0.000000  277336.0      0.000000   \n",
       "\n",
       "     facebook_I  search_clicks_P     search_S  competitor_sales_B  \\\n",
       "0  2.430128e+07         0.000000     0.000000             8125009   \n",
       "1  5.527033e+06      9837.238486  4133.333333             7901549   \n",
       "2  1.665159e+07     12044.119653  3786.666667             8300197   \n",
       "3  1.054977e+07     12268.070319  4253.333333             8122883   \n",
       "4  2.934090e+06      9467.248023  3613.333333             7105985   \n",
       "\n",
       "    facebook_S events    newsletter  \n",
       "0  7607.132915     na  19401.653846  \n",
       "1  1141.952450     na  14791.000000  \n",
       "2  4256.375378     na  14544.000000  \n",
       "3  2800.490677     na   2800.000000  \n",
       "4   689.582605     na  15478.000000  "
      ]
     },
     "execution_count": 3,
     "metadata": {},
     "output_type": "execute_result"
    }
   ],
   "source": [
    "# Read the simulated data and holidays data\n",
    "dt_simulated_weekly = pd.read_csv(\"resources/dt_simulated_weekly.csv\")\n",
    "\n",
    "print(\"Simulated Data...\")\n",
    "dt_simulated_weekly.head()"
   ]
  },
  {
   "cell_type": "code",
   "execution_count": null,
   "id": "182efb73",
   "metadata": {},
   "outputs": [],
   "source": []
  },
  {
   "cell_type": "markdown",
   "id": "0a1cce14",
   "metadata": {},
   "source": [
    "## 2.2. Initialize Robyn\n",
    "\n",
    "Now, let's initialize Robyn with our synthetic data and configuration."
   ]
  },
  {
   "cell_type": "code",
   "execution_count": 4,
   "id": "3a272787",
   "metadata": {},
   "outputs": [
    {
     "name": "stderr",
     "output_type": "stream",
     "text": [
      "2024-11-02 20:19:57 - root - INFO - Robyn initialized with working directory: ~/temp/robyn\n"
     ]
    },
    {
     "ename": "NameError",
     "evalue": "name 'dt_prophet_holidays' is not defined",
     "output_type": "error",
     "traceback": [
      "\u001b[0;31m---------------------------------------------------------------------------\u001b[0m",
      "\u001b[0;31mNameError\u001b[0m                                 Traceback (most recent call last)",
      "Cell \u001b[0;32mIn[4], line 21\u001b[0m\n\u001b[1;32m     17\u001b[0m mmm_data \u001b[38;5;241m=\u001b[39m MMMData(data\u001b[38;5;241m=\u001b[39mdt_simulated_weekly, mmmdata_spec\u001b[38;5;241m=\u001b[39mmmm_data_spec)\n\u001b[1;32m     19\u001b[0m \u001b[38;5;66;03m# Create HolidaysData (using dummy data for demonstration)\u001b[39;00m\n\u001b[1;32m     20\u001b[0m holidays_data \u001b[38;5;241m=\u001b[39m HolidaysData(\n\u001b[0;32m---> 21\u001b[0m     dt_holidays\u001b[38;5;241m=\u001b[39m\u001b[43mdt_prophet_holidays\u001b[49m,\n\u001b[1;32m     22\u001b[0m     prophet_vars\u001b[38;5;241m=\u001b[39m[\u001b[38;5;124m\"\u001b[39m\u001b[38;5;124mtrend\u001b[39m\u001b[38;5;124m\"\u001b[39m, \u001b[38;5;124m\"\u001b[39m\u001b[38;5;124mseason\u001b[39m\u001b[38;5;124m\"\u001b[39m, \u001b[38;5;124m\"\u001b[39m\u001b[38;5;124mholiday\u001b[39m\u001b[38;5;124m\"\u001b[39m],\n\u001b[1;32m     23\u001b[0m     prophet_country\u001b[38;5;241m=\u001b[39m\u001b[38;5;124m\"\u001b[39m\u001b[38;5;124mDE\u001b[39m\u001b[38;5;124m\"\u001b[39m,\n\u001b[1;32m     24\u001b[0m     prophet_signs\u001b[38;5;241m=\u001b[39m[\u001b[38;5;124m\"\u001b[39m\u001b[38;5;124mdefault\u001b[39m\u001b[38;5;124m\"\u001b[39m, \u001b[38;5;124m\"\u001b[39m\u001b[38;5;124mdefault\u001b[39m\u001b[38;5;124m\"\u001b[39m, \u001b[38;5;124m\"\u001b[39m\u001b[38;5;124mdefault\u001b[39m\u001b[38;5;124m\"\u001b[39m],\n\u001b[1;32m     25\u001b[0m )\n\u001b[1;32m     27\u001b[0m \u001b[38;5;66;03m# Create Hyperparameters\u001b[39;00m\n\u001b[1;32m     28\u001b[0m hyperparameters \u001b[38;5;241m=\u001b[39m Hyperparameters(\n\u001b[1;32m     29\u001b[0m     {\n\u001b[1;32m     30\u001b[0m         \u001b[38;5;124m\"\u001b[39m\u001b[38;5;124mfacebook_S\u001b[39m\u001b[38;5;124m\"\u001b[39m: ChannelHyperparameters(\n\u001b[0;32m   (...)\u001b[0m\n\u001b[1;32m     63\u001b[0m     train_size\u001b[38;5;241m=\u001b[39m[\u001b[38;5;241m0.5\u001b[39m, \u001b[38;5;241m0.8\u001b[39m],\n\u001b[1;32m     64\u001b[0m )\n",
      "\u001b[0;31mNameError\u001b[0m: name 'dt_prophet_holidays' is not defined"
     ]
    }
   ],
   "source": [
    "# Initialize Robyn\n",
    "robyn = Robyn(working_dir=\"~/temp/robyn\")\n",
    "\n",
    "# Create MMMData\n",
    "mmm_data_spec = MMMData.MMMDataSpec(\n",
    "    dep_var=\"revenue\",\n",
    "    dep_var_type=\"revenue\",\n",
    "    date_var=\"DATE\",\n",
    "    context_vars=[\"competitor_sales_B\", \"events\"],\n",
    "    paid_media_spends=[\"tv_S\", \"ooh_S\", \"print_S\", \"facebook_S\", \"search_S\"],\n",
    "    paid_media_vars=[\"tv_S\", \"ooh_S\", \"print_S\", \"facebook_I\", \"search_clicks_P\"],\n",
    "    organic_vars=[\"newsletter\"],\n",
    "    window_start=\"2016-01-01\",\n",
    "    window_end=\"2018-12-31\",\n",
    ")\n",
    "\n",
    "mmm_data = MMMData(data=dt_simulated_weekly, mmmdata_spec=mmm_data_spec)\n",
    "\n",
    "# Create HolidaysData (using dummy data for demonstration)\n",
    "holidays_data = HolidaysData(\n",
    "    dt_holidays=dt_prophet_holidays,\n",
    "    prophet_vars=[\"trend\", \"season\", \"holiday\"],\n",
    "    prophet_country=\"DE\",\n",
    "    prophet_signs=[\"default\", \"default\", \"default\"],\n",
    ")\n",
    "\n",
    "# Create Hyperparameters\n",
    "hyperparameters = Hyperparameters(\n",
    "    {\n",
    "        \"facebook_S\": ChannelHyperparameters(\n",
    "            alphas=[0.5, 3],\n",
    "            gammas=[0.3, 1],\n",
    "            thetas=[0, 0.3],\n",
    "        ),\n",
    "        \"print_S\": ChannelHyperparameters(\n",
    "            alphas=[0.5, 3],\n",
    "            gammas=[0.3, 1],\n",
    "            thetas=[0.1, 0.4],\n",
    "        ),\n",
    "        \"tv_S\": ChannelHyperparameters(\n",
    "            alphas=[0.5, 3],\n",
    "            gammas=[0.3, 1],\n",
    "            thetas=[0.3, 0.8],\n",
    "        ),\n",
    "        \"search_S\": ChannelHyperparameters(\n",
    "            alphas=[0.5, 3],\n",
    "            gammas=[0.3, 1],\n",
    "            thetas=[0, 0.3],\n",
    "        ),\n",
    "        \"ooh_S\": ChannelHyperparameters(\n",
    "            alphas=[0.5, 3],\n",
    "            gammas=[0.3, 1],\n",
    "            thetas=[0.1, 0.4],\n",
    "        ),\n",
    "        \"newsletter\": ChannelHyperparameters(\n",
    "            alphas=[0.5, 3],\n",
    "            gammas=[0.3, 1],\n",
    "            thetas=[0.1, 0.4],\n",
    "        ),\n",
    "    },\n",
    "    adstock=AdstockType.GEOMETRIC,\n",
    "    lambda_=0.0,\n",
    "    train_size=[0.5, 0.8],\n",
    ")\n",
    "\n",
    "# Create CalibrationInput (using dummy data for demonstration)\n",
    "# calibration_input = CalibrationInput({\n",
    "#     \"tv_spend\": ChannelCalibrationData(\n",
    "#         lift_start_date=pd.Timestamp(\"2022-03-01\"),\n",
    "#         lift_end_date=pd.Timestamp(\"2022-03-15\"),\n",
    "#         lift_abs=10000,\n",
    "#         spend=50000,\n",
    "#         confidence=0.9,\n",
    "#         metric=\"revenue\",\n",
    "#         calibration_scope=CalibrationScope.IMMEDIATE\n",
    "#     )\n",
    "# })\n",
    "\n",
    "# Initialize Robyn\n",
    "robyn.initialize(\n",
    "    mmm_data=mmm_data,\n",
    "    holidays_data=holidays_data,\n",
    "    hyperparameters=hyperparameters,\n",
    "    calibration_input=None,\n",
    ")\n",
    "\n",
    "print(\"Robyn initialized successfully!\")"
   ]
  },
  {
   "cell_type": "markdown",
   "id": "d836832f",
   "metadata": {},
   "source": [
    "## 3. Run Robyn Model\n",
    "\n",
    "After initialization, we can run the Robyn model."
   ]
  },
  {
   "cell_type": "code",
   "execution_count": null,
   "id": "08cc2ddb",
   "metadata": {},
   "outputs": [],
   "source": [
    "from robyn.modeling.entities.modelrun_trials_config import TrialsConfig\n",
    "\n",
    "\n",
    "trials_config = TrialsConfig(iterations=2000, trials=5)\n",
    "\n",
    "# Run the model\n",
    "robyn.model_run(feature_plots=False, trials_config=trials_config)"
   ]
  },
  {
   "cell_type": "markdown",
   "id": "5e2e0f67",
   "metadata": {},
   "source": [
    "## 4. Pareto Calculation"
   ]
  },
  {
   "cell_type": "code",
   "execution_count": null,
   "id": "ad537a10",
   "metadata": {},
   "outputs": [],
   "source": [
    "# Test Pareto Optimizer\n",
    "\n",
    "import pandas as pd\n",
    "import json\n",
    "from typing import Dict, Any, List\n",
    "import numpy as np\n",
    "from datetime import datetime, timedelta\n",
    "from robyn.data.entities.mmmdata import MMMData\n",
    "from robyn.modeling.entities.modeloutputs import ModelOutputs, Trial\n",
    "from robyn.modeling.pareto.pareto_optimizer import ParetoOptimizer, ParetoData\n",
    "from robyn.data.entities.enums import DependentVarType, PaidMediaSigns, OrganicSigns, ContextSigns\n",
    "\n",
    "from utils.data_mapper import import_data, load_data_from_json\n",
    "\n",
    "\n",
    "# 3. Create ParetoOptimizer instance\n",
    "pareto_optimizer = ParetoOptimizer(mmm_data, model_outputs, hyperparameters, featurized_mmm_data, holidays_data)"
   ]
  },
  {
   "cell_type": "markdown",
   "id": "8ede6c0d",
   "metadata": {},
   "source": [
    "## 4. Budget Allocation\n",
    "\n",
    "Finally, let's perform budget allocation using the trained model."
   ]
  },
  {
   "cell_type": "code",
   "execution_count": null,
   "id": "3db5eae9",
   "metadata": {},
   "outputs": [],
   "source": []
  },
  {
   "cell_type": "markdown",
   "id": "e87e98ff",
   "metadata": {},
   "source": [
    "This notebook demonstrates the basic workflow of using Robyn for Marketing Mix Modeling. In a real-world scenario, you would need to replace the synthetic data with your actual marketing data and adjust the parameters accordingly.\n",
    "\n",
    "Remember to explore the full capabilities of Robyn, including model evaluation, visualization, and interpretation of results, which are beyond the scope of this basic demonstration."
   ]
  }
 ],
 "metadata": {
  "kernelspec": {
   "display_name": ".venv",
   "language": "python",
   "name": "python3"
  },
  "language_info": {
   "codemirror_mode": {
    "name": "ipython",
    "version": 3
   },
   "file_extension": ".py",
   "mimetype": "text/x-python",
   "name": "python",
   "nbconvert_exporter": "python",
   "pygments_lexer": "ipython3",
   "version": "3.9.6"
  }
 },
 "nbformat": 4,
 "nbformat_minor": 5
}
